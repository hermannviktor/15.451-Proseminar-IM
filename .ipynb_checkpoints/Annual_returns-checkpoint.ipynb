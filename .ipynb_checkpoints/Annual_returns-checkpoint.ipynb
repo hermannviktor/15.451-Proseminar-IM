{
 "cells": [
  {
   "cell_type": "code",
   "execution_count": 23,
   "metadata": {},
   "outputs": [],
   "source": [
    "import pandas as pd\n",
    "import numpy as np\n",
    "import datetime"
   ]
  },
  {
   "cell_type": "code",
   "execution_count": 47,
   "metadata": {},
   "outputs": [],
   "source": [
    "filepath_sp = \"/Users/hermannviktor/Dropbox/MIT/Courses/2. Fall Term/15.451 Proseminar IM/Market_data.xlsx\"\n",
    "filepath_5ynote = \"/Users/hermannviktor/Dropbox/MIT/Courses/2. Fall Term/15.451 Proseminar IM/5y_note.xlsx\""
   ]
  },
  {
   "cell_type": "code",
   "execution_count": 45,
   "metadata": {},
   "outputs": [],
   "source": [
    "px_sp_daily = pd.read_excel(filepath_sp)"
   ]
  },
  {
   "cell_type": "code",
   "execution_count": 53,
   "metadata": {},
   "outputs": [],
   "source": [
    "px_5ynote_daily = pd.read_excel(filepath_5ynote)"
   ]
  },
  {
   "cell_type": "code",
   "execution_count": 60,
   "metadata": {},
   "outputs": [],
   "source": [
    "def yearly_return(input_df, horizon):\n",
    "    \"\"\"\n",
    "    input_df should have 2 columns: 1. date, 2. daily return\n",
    "    \"\"\"\n",
    "    input_df.columns = ['Date', 'Daily_price']\n",
    "    input_df['Date'] = pd.to_datetime(input_df['Date'])\n",
    "    input_df = input_df.set_index('Date')\n",
    "    input_df['Daily_return'] = input_df['Daily_price'].pct_change(periods=horizon)\n",
    "    input_df['Year'] = input_df.index.year\n",
    "    yearly_return = input_df.groupby('Year')['Daily_return'].mean()*252\n",
    "    return yearly_return"
   ]
  },
  {
   "cell_type": "code",
   "execution_count": 61,
   "metadata": {},
   "outputs": [],
   "source": [
    "def yearly_average(input_df):\n",
    "    \"\"\"\n",
    "    input_df should have 2 columns: 1. date, 2. daily return\n",
    "    \"\"\"\n",
    "    input_df.columns = ['Date', 'Daily_price']\n",
    "    input_df['Date'] = pd.to_datetime(input_df['Date'])\n",
    "    input_df = input_df.set_index('Date')\n",
    "    input_df['Year'] = input_df.index.year\n",
    "    yearly_return = input_df.groupby('Year')['Daily_price'].mean()\n",
    "    return yearly_return"
   ]
  },
  {
   "cell_type": "code",
   "execution_count": 51,
   "metadata": {},
   "outputs": [],
   "source": [
    "sp_ret_y = yearly_return(px_sp_daily,1)"
   ]
  },
  {
   "cell_type": "code",
   "execution_count": 64,
   "metadata": {},
   "outputs": [],
   "source": [
    "note5y_ret_y = yearly_average(px_5ynote_daily)"
   ]
  },
  {
   "cell_type": "code",
   "execution_count": 67,
   "metadata": {},
   "outputs": [],
   "source": [
    "yearly_ret = pd.concat([sp_ret_y,note5y_ret_y],axis=1)\n",
    "yearly_ret.columns = ['SP_ret', '5ynote_ret']"
   ]
  },
  {
   "cell_type": "code",
   "execution_count": 71,
   "metadata": {},
   "outputs": [],
   "source": [
    "writer = pd.ExcelWriter('Yearly_returns.xlsx')\n",
    "yearly_ret.to_excel(writer,'Sheet1')\n",
    "writer.save()"
   ]
  },
  {
   "cell_type": "code",
   "execution_count": null,
   "metadata": {},
   "outputs": [],
   "source": []
  }
 ],
 "metadata": {
  "kernelspec": {
   "display_name": "Python [conda env:MIT]",
   "language": "python",
   "name": "conda-env-MIT-py"
  },
  "language_info": {
   "codemirror_mode": {
    "name": "ipython",
    "version": 3
   },
   "file_extension": ".py",
   "mimetype": "text/x-python",
   "name": "python",
   "nbconvert_exporter": "python",
   "pygments_lexer": "ipython3",
   "version": "3.6.7"
  }
 },
 "nbformat": 4,
 "nbformat_minor": 2
}
