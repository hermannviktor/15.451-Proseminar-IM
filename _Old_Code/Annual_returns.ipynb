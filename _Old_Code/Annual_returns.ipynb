{
 "cells": [
  {
   "cell_type": "code",
   "execution_count": 2,
   "metadata": {},
   "outputs": [],
   "source": [
    "import pandas as pd\n",
    "import numpy as np\n",
    "import datetime"
   ]
  },
  {
   "cell_type": "code",
   "execution_count": 9,
   "metadata": {},
   "outputs": [],
   "source": [
    "filepath_sp = \"/Users/hermannviktor/Dropbox/MIT/Courses/2. Fall Term/15.451 Proseminar IM/Market_data.xlsx\"\n",
    "filepath_5ynote = \"/Users/hermannviktor/Dropbox/MIT/Courses/2. Fall Term/15.451 Proseminar IM/5y_note.xlsx\"\n",
    "filepath_10ynote = \"/Users/hermannviktor/Dropbox/MIT/Courses/2. Fall Term/15.451 Proseminar IM/10Y-note-daily.xlsx\""
   ]
  },
  {
   "cell_type": "code",
   "execution_count": 10,
   "metadata": {},
   "outputs": [],
   "source": [
    "px_sp_daily = pd.read_excel(filepath_sp)"
   ]
  },
  {
   "cell_type": "code",
   "execution_count": 11,
   "metadata": {},
   "outputs": [],
   "source": [
    "px_5ynote_daily = pd.read_excel(filepath_5ynote)"
   ]
  },
  {
   "cell_type": "code",
   "execution_count": 12,
   "metadata": {},
   "outputs": [],
   "source": [
    "px_10ynote_daily = pd.read_excel(filepath_10ynote)"
   ]
  },
  {
   "cell_type": "code",
   "execution_count": 13,
   "metadata": {},
   "outputs": [],
   "source": [
    "def yearly_return(input_df, horizon):\n",
    "    \"\"\"\n",
    "    input_df should have 2 columns: 1. date, 2. daily return\n",
    "    \"\"\"\n",
    "    input_df.columns = ['Date', 'Daily_price']\n",
    "    input_df['Date'] = pd.to_datetime(input_df['Date'])\n",
    "    input_df = input_df.set_index('Date')\n",
    "    input_df['Daily_return'] = input_df['Daily_price'].pct_change(periods=horizon)\n",
    "    input_df['Year'] = input_df.index.year\n",
    "    yearly_return = input_df.groupby('Year')['Daily_return'].mean()*252\n",
    "    return yearly_return"
   ]
  },
  {
   "cell_type": "code",
   "execution_count": 14,
   "metadata": {},
   "outputs": [],
   "source": [
    "def yearly_average(input_df):\n",
    "    \"\"\"\n",
    "    input_df should have 2 columns: 1. date, 2. daily return\n",
    "    \"\"\"\n",
    "    input_df.columns = ['Date', 'Daily_price']\n",
    "    input_df['Date'] = pd.to_datetime(input_df['Date'])\n",
    "    input_df = input_df.set_index('Date')\n",
    "    input_df['Year'] = input_df.index.year\n",
    "    yearly_return = input_df.groupby('Year')['Daily_price'].mean()\n",
    "    return yearly_return"
   ]
  },
  {
   "cell_type": "code",
   "execution_count": 15,
   "metadata": {},
   "outputs": [],
   "source": [
    "sp_ret_y = yearly_return(px_sp_daily,1)"
   ]
  },
  {
   "cell_type": "code",
   "execution_count": 16,
   "metadata": {},
   "outputs": [],
   "source": [
    "note5y_ret_y = yearly_average(px_5ynote_daily)"
   ]
  },
  {
   "cell_type": "code",
   "execution_count": 17,
   "metadata": {},
   "outputs": [],
   "source": [
    "note10y_ret_y = yearly_average(px_10ynote_daily)"
   ]
  },
  {
   "cell_type": "code",
   "execution_count": 18,
   "metadata": {},
   "outputs": [],
   "source": [
    "yearly_ret = pd.concat([sp_ret_y,note5y_ret_y,note10y_ret_y],axis=1)\n",
    "yearly_ret.columns = ['SP_ret', '5ynote_ret', '10ynote_ret']"
   ]
  },
  {
   "cell_type": "code",
   "execution_count": 19,
   "metadata": {},
   "outputs": [],
   "source": [
    "writer = pd.ExcelWriter('Yearly_returns.xlsx')\n",
    "yearly_ret.to_excel(writer,'Sheet1')\n",
    "writer.save()"
   ]
  },
  {
   "cell_type": "code",
   "execution_count": null,
   "metadata": {},
   "outputs": [],
   "source": []
  },
  {
   "cell_type": "markdown",
   "metadata": {},
   "source": [
    "# Monthly returns"
   ]
  },
  {
   "cell_type": "code",
   "execution_count": 26,
   "metadata": {},
   "outputs": [],
   "source": [
    "import pandas as pd\n",
    "import numpy as np\n",
    "from datetime import datetime"
   ]
  },
  {
   "cell_type": "code",
   "execution_count": 16,
   "metadata": {},
   "outputs": [],
   "source": [
    "filepath_correct = '/Users/hermannviktor/Python/PycharmProjects/15.451-Proseminar-IM/Excel/Long_history_returns.xlsx'"
   ]
  },
  {
   "cell_type": "code",
   "execution_count": 19,
   "metadata": {},
   "outputs": [],
   "source": [
    "ret_d = pd.read_excel(filepath_correct)\n",
    "ret_d['Time'] = pd.to_datetime(ret_d['Time'])\n",
    "ret_d = ret_d.set_index(ret_d['Time'])\n",
    "ret_d = ret_d.drop('Time',1)"
   ]
  },
  {
   "cell_type": "code",
   "execution_count": 29,
   "metadata": {},
   "outputs": [],
   "source": [
    "beg = datetime(1962,1,3)\n",
    "ret_d_cor = ret_d.loc[ret_d.index >= beg]"
   ]
  },
  {
   "cell_type": "code",
   "execution_count": 31,
   "metadata": {},
   "outputs": [],
   "source": [
    "num_trad_d = 21"
   ]
  },
  {
   "cell_type": "code",
   "execution_count": 42,
   "metadata": {},
   "outputs": [],
   "source": [
    "ret_m = ret_d_cor.groupby(by=[ret_d_cor.index.year, ret_d_cor.index.month]).mean()*num_trad_d"
   ]
  },
  {
   "cell_type": "code",
   "execution_count": 45,
   "metadata": {},
   "outputs": [],
   "source": [
    "writer = pd.ExcelWriter('Monthly_returns.xlsx')\n",
    "ret_m.to_excel(writer,'Sheet1')\n",
    "writer.save()"
   ]
  },
  {
   "cell_type": "code",
   "execution_count": null,
   "metadata": {},
   "outputs": [],
   "source": []
  }
 ],
 "metadata": {
  "kernelspec": {
   "display_name": "Python [conda env:MIT]",
   "language": "python",
   "name": "conda-env-MIT-py"
  },
  "language_info": {
   "codemirror_mode": {
    "name": "ipython",
    "version": 3
   },
   "file_extension": ".py",
   "mimetype": "text/x-python",
   "name": "python",
   "nbconvert_exporter": "python",
   "pygments_lexer": "ipython3",
   "version": "3.6.7"
  }
 },
 "nbformat": 4,
 "nbformat_minor": 2
}
